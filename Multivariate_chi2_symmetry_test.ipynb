{
 "cells": [
  {
   "cell_type": "code",
   "execution_count": 13,
   "id": "970152ab",
   "metadata": {},
   "outputs": [],
   "source": [
    "import numpy as np\n",
    "from scipy.stats import chi2\n",
    "from tqdm.notebook import tqdm"
   ]
  },
  {
   "cell_type": "code",
   "execution_count": 2,
   "id": "a7a5e072",
   "metadata": {},
   "outputs": [],
   "source": [
    "def make_rectangle(dot, i):\n",
    "    return ((dot[0], dot[1]), (dot[0], dot[1] + i), (dot[0] + i, dot[1] + i), (dot[0] + i, dot[1]))"
   ]
  },
  {
   "cell_type": "code",
   "execution_count": 3,
   "id": "43f25a3c",
   "metadata": {},
   "outputs": [],
   "source": [
    "# Функция отражения прямоугольника симметрично относительно нуля\n",
    "def reverse_rectangle(rectangle):\n",
    "    \n",
    "    dot1 = rectangle[2]\n",
    "    dot2 = rectangle[3]\n",
    "    dot3 = rectangle[0]\n",
    "    dot4 = rectangle[1]\n",
    "    \n",
    "    return ((-dot1[0], -dot1[1]), (-dot2[0], -dot2[1]), (-dot3[0], -dot3[1]), (-dot4[0], -dot4[1]))"
   ]
  },
  {
   "cell_type": "code",
   "execution_count": 5,
   "id": "529913f5",
   "metadata": {},
   "outputs": [],
   "source": [
    "def is_dot_in_rectangle(dot, rectangle):\n",
    "    \n",
    "    return dot[0] >= rectangle[0][0] \\\n",
    "            and dot[0] <= rectangle[2][0] \\\n",
    "            and dot[1] >= rectangle[0][1] \\\n",
    "            and dot[1] <= rectangle[2][1]"
   ]
  },
  {
   "cell_type": "markdown",
   "id": "f58aae61",
   "metadata": {},
   "source": [
    "# Разобьем правую полуплоскость на квадраты"
   ]
  },
  {
   "cell_type": "code",
   "execution_count": 6,
   "id": "f16fdbcf",
   "metadata": {},
   "outputs": [],
   "source": [
    "dots = []\n",
    "for i in range(0, 11, 2):\n",
    "    for j in range(-10, 11, 2):\n",
    "        dots.append((i, j))"
   ]
  },
  {
   "cell_type": "code",
   "execution_count": 7,
   "id": "be209cb2",
   "metadata": {},
   "outputs": [],
   "source": [
    "rectangles = [make_rectangle(dot, 1) for dot in dots]"
   ]
  },
  {
   "cell_type": "code",
   "execution_count": 9,
   "id": "a1a51d85",
   "metadata": {},
   "outputs": [
    {
     "data": {
      "text/plain": [
       "((0, 0), (0, 1), (1, 1), (1, 0))"
      ]
     },
     "execution_count": 9,
     "metadata": {},
     "output_type": "execute_result"
    }
   ],
   "source": [
    "rectangles[5]"
   ]
  },
  {
   "cell_type": "code",
   "execution_count": 10,
   "id": "9f090ef9",
   "metadata": {},
   "outputs": [
    {
     "data": {
      "text/plain": [
       "(True, False)"
      ]
     },
     "execution_count": 10,
     "metadata": {},
     "output_type": "execute_result"
    }
   ],
   "source": [
    "is_dot_in_rectangle((0.5, 0.5), rectangles[5]), is_dot_in_rectangle((1.5, 0.5), rectangles[5])"
   ]
  },
  {
   "cell_type": "code",
   "execution_count": null,
   "id": "2dba2ec5",
   "metadata": {},
   "outputs": [],
   "source": []
  },
  {
   "cell_type": "markdown",
   "id": "2abb20f9",
   "metadata": {},
   "source": [
    "## Функция подсчета статистики Т"
   ]
  },
  {
   "cell_type": "markdown",
   "id": "74dd6086",
   "metadata": {},
   "source": [
    "$$T = \\sum\\limits_{i=1}^{m}\\frac{(\\nu_{i}^{+} - \\nu_{i}^{-})^{2}}{\\nu_{i}^{+} + \\nu_{i}^{-}}$$"
   ]
  },
  {
   "cell_type": "code",
   "execution_count": 11,
   "id": "129fd9d5",
   "metadata": {},
   "outputs": [],
   "source": [
    "def t_statistics(vecs: np.array):\n",
    "    \n",
    "    rectangles_dict = {}\n",
    "    reversed_rectangles = [reverse_rectangle(rectangle) for rectangle in rectangles]\n",
    "    \n",
    "    for rectangle in rectangles + reversed_rectangles:\n",
    "        rectangles_dict[rectangle] = 0\n",
    "    \n",
    "\n",
    "    for dot in vecs:\n",
    "        for rectangle in rectangles + reversed_rectangles:\n",
    "            \n",
    "            if is_dot_in_rectangle(dot, rectangle):\n",
    "                rectangles_dict[rectangle] += 1\n",
    "                \n",
    "    to_count_rectangles = []\n",
    "    T = 0\n",
    "    for rectangle in rectangles:\n",
    "        \n",
    "        if rectangles_dict[rectangle] > 0 or rectangles_dict[reverse_rectangle(rectangle)] > 0:\n",
    "            to_count_rectangles.append(rectangle)\n",
    "            \n",
    "            T += (\n",
    "                (rectangles_dict[rectangle] - rectangles_dict[reverse_rectangle(rectangle)])**2 /\n",
    "                (rectangles_dict[rectangle] + rectangles_dict[reverse_rectangle(rectangle)])\n",
    "            )\n",
    "                            \n",
    "    degree_freedom = len(to_count_rectangles)\n",
    "    return T, degree_freedom"
   ]
  },
  {
   "cell_type": "markdown",
   "id": "aea46ee0",
   "metadata": {},
   "source": [
    "### Сгенерируем 1000 раз выборку из симметричного относительно нуля двумерного нормального распределения. То есть нулевая гипотеза о симметрии распределения верна.\n",
    "$$\\mathcal{N} (\\begin{pmatrix}\n",
    "0\\\\\n",
    "0\n",
    "\\end{pmatrix}, \\begin{pmatrix}\n",
    "9 & 2\\\\\n",
    "2 & 16\n",
    "\\end{pmatrix})$$\n",
    "#### В случае отклонения нулевой гипотезы о симметрии, будем записывать ответ 1, иначе - 0."
   ]
  },
  {
   "cell_type": "code",
   "execution_count": 28,
   "id": "704c910f",
   "metadata": {
    "scrolled": true
   },
   "outputs": [
    {
     "data": {
      "application/vnd.jupyter.widget-view+json": {
       "model_id": "727eef9d9e884aebba636e686b669ff3",
       "version_major": 2,
       "version_minor": 0
      },
      "text/plain": [
       "  0%|          | 0/1000 [00:00<?, ?it/s]"
      ]
     },
     "metadata": {},
     "output_type": "display_data"
    },
    {
     "data": {
      "text/plain": [
       "0.015"
      ]
     },
     "execution_count": 28,
     "metadata": {},
     "output_type": "execute_result"
    }
   ],
   "source": [
    "answers = []\n",
    "for _ in tqdm(range(1000)):\n",
    "    \n",
    "    mean = np.array([0, 0])\n",
    "    cov = np.array([[9, 2], [2, 16]])\n",
    "    vecs = np.random.multivariate_normal(mean, cov, 1000)\n",
    "    \n",
    "    T, df = t_statistics(vecs)\n",
    "    \n",
    "    if T > chi2.ppf(0.95, df=df):\n",
    "        answers.append(1)\n",
    "    else:\n",
    "        answers.append(0)\n",
    "np.mean(answers)"
   ]
  },
  {
   "cell_type": "markdown",
   "id": "4a98fe52",
   "metadata": {},
   "source": [
    "### Как видим, мы отклонили нулевую гипотезу лишь в 1.5% случаев. Это и есть ошибка первого рода."
   ]
  },
  {
   "cell_type": "markdown",
   "id": "99634446",
   "metadata": {},
   "source": [
    "_____"
   ]
  },
  {
   "cell_type": "markdown",
   "id": "485121c6",
   "metadata": {},
   "source": [
    "### Сгенерируем теперь 1000 раз выборку из несимметричного двумерного нормального распределения с той же ковариационной матрицей, но с ненулувым вектором средних. То есть нулевая гипотеза о симметрии распределения не верна.\n",
    "$$\\mathcal{N} (\\begin{pmatrix}\n",
    "-1\\\\\n",
    "1\n",
    "\\end{pmatrix}, \\begin{pmatrix}\n",
    "9 & 2\\\\\n",
    "2 & 16\n",
    "\\end{pmatrix})$$"
   ]
  },
  {
   "cell_type": "code",
   "execution_count": 27,
   "id": "ea38efac",
   "metadata": {},
   "outputs": [
    {
     "data": {
      "application/vnd.jupyter.widget-view+json": {
       "model_id": "293647815c8f4d1db2eed2ed2cfd1f97",
       "version_major": 2,
       "version_minor": 0
      },
      "text/plain": [
       "  0%|          | 0/1000 [00:00<?, ?it/s]"
      ]
     },
     "metadata": {},
     "output_type": "display_data"
    },
    {
     "data": {
      "text/plain": [
       "0.957"
      ]
     },
     "execution_count": 27,
     "metadata": {},
     "output_type": "execute_result"
    }
   ],
   "source": [
    "answers = []\n",
    "for _ in tqdm(range(1000)):\n",
    "    \n",
    "    mean = np.array([-1, 1])\n",
    "    cov = np.array([[9, 2], [2, 16]])\n",
    "    vecs = np.random.multivariate_normal(mean, cov, 1000)\n",
    "    \n",
    "    T, df = t_statistics(vecs)\n",
    "    \n",
    "    if T > chi2.ppf(0.95, df=df):\n",
    "        answers.append(1)\n",
    "    else:\n",
    "        answers.append(0)\n",
    "\n",
    "np.mean(answers)"
   ]
  },
  {
   "cell_type": "markdown",
   "id": "5b99b976",
   "metadata": {},
   "source": [
    "### Как видим, мы отклонили неверную нулевую гипотезу лишь в 95.7% случаев. То есть ошибка второго равна 4.3%."
   ]
  },
  {
   "cell_type": "markdown",
   "id": "c5b6846a",
   "metadata": {},
   "source": [
    "# Таким образом мы подтвердили валидность теста. Ошибки первого и второго рода составили меньше 5%."
   ]
  },
  {
   "cell_type": "code",
   "execution_count": null,
   "id": "525f0bb1",
   "metadata": {},
   "outputs": [],
   "source": []
  },
  {
   "cell_type": "code",
   "execution_count": null,
   "id": "b254c13d",
   "metadata": {},
   "outputs": [],
   "source": []
  }
 ],
 "metadata": {
  "kernelspec": {
   "display_name": "Python 3 (ipykernel)",
   "language": "python",
   "name": "python3"
  },
  "language_info": {
   "codemirror_mode": {
    "name": "ipython",
    "version": 3
   },
   "file_extension": ".py",
   "mimetype": "text/x-python",
   "name": "python",
   "nbconvert_exporter": "python",
   "pygments_lexer": "ipython3",
   "version": "3.9.7"
  }
 },
 "nbformat": 4,
 "nbformat_minor": 5
}
